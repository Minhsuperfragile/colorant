{
 "cells": [
  {
   "cell_type": "code",
   "execution_count": 1,
   "metadata": {},
   "outputs": [],
   "source": [
    "class VideoProcessorConfig():\n",
    "    def __init__(self,\n",
    "                frame_width: int | None = None,\n",
    "                frame_height: int | None = None,\n",
    "                roi_width: int | None = None,\n",
    "                roi_height: int | None = None,\n",
    "                ):\n",
    "        \"\"\"\n",
    "        Config dataclass for VideoProcessor class.\n",
    "            frame_size: Size of input frame, default to 1920x1080.\n",
    "            roi_size: Size of region of interest, default to 128x32.\n",
    "        \"\"\"\n",
    "        self.frame_width = frame_width if frame_width is not None else 1920\n",
    "        self.frame_height = frame_height if frame_height is not None else 1080\n",
    "        self.roi_width = roi_width if roi_width is not None else 128\n",
    "        self.roi_height = roi_height if roi_height is not None else 32\n",
    "        \n",
    "        assert (self.frame_height % self.roi_height == 0) and (self.frame_width % self.roi_width == 0)\n",
    "\n",
    "test_case = VideoProcessorConfig() # Answer: Pretty easy to see eh ? "
   ]
  },
  {
   "cell_type": "code",
   "execution_count": null,
   "metadata": {},
   "outputs": [],
   "source": [
    "from typing import *\n",
    "import numpy as np\n",
    "\n",
    "class BaseModel():\n",
    "    def __init__(self):\n",
    "        pass\n",
    "    \n",
    "    def sigmoid(self, input: Iterable | float) -> Iterable | float:\n",
    "        return 1 / (1 + np.exp(-input))\n",
    "\n",
    "    def softmax(self, input: Iterable) -> Iterable:\n",
    "        return np.exp(input) / np.sum(np.exp(input))\n",
    "\n",
    "    def forward(self, input : Iterable | float) -> Iterable:\n",
    "        return self.softmax(self.sigmoid(input))\n",
    "    \n",
    "test_case = BaseModel()\n",
    "test_case.forward([1,1,1]) # Answer: Input must be np.ndarray "
   ]
  },
  {
   "cell_type": "code",
   "execution_count": null,
   "metadata": {},
   "outputs": [],
   "source": [
    "import re\n",
    "email = \"minhnt.22bi13304@usth.edu.vn\"\n",
    "\n",
    "student_id = re.search(\"(\\\\d{2}[a-z]{2}\\\\d{5})$\", email.split(\"@\")[0])\n",
    "name = re.search(\"^([a-z]+)\", email) #Answer: Must be \"^([a-z]+).\", one more dot\n",
    "\n",
    "concat = \"\".join([name.group(), student_id.group()]) # Or add a dot here in the middle\n",
    "if concat != email.split(\"@\")[0]:\n",
    "    raise ValueError(\"Good luck debugging\")"
   ]
  },
  {
   "cell_type": "code",
   "execution_count": 2,
   "metadata": {},
   "outputs": [
    {
     "data": {
      "text/plain": [
       "array([[ 0.1372549 , -0.03921569,  0.07843137],\n",
       "       [-0.46405229,  0.08496732,  0.16339869],\n",
       "       [ 0.29411765,  0.05882353, -0.11764706]])"
      ]
     },
     "execution_count": 2,
     "metadata": {},
     "output_type": "execute_result"
    }
   ],
   "source": [
    "import numpy as np\n",
    "\n",
    "A = np.array([[3,0,2],[1,6,9],[8,3,1]])\n",
    "np.linalg.inv(A)"
   ]
  },
  {
   "cell_type": "code",
   "execution_count": 5,
   "metadata": {},
   "outputs": [],
   "source": [
    "from abc import ABC, abstractmethod\n",
    "\n",
    "class animal(ABC):\n",
    "    def __init__(self):\n",
    "        super().__init__()\n",
    "\n",
    "    @abstractmethod\n",
    "    def sound(self):\n",
    "        pass\n",
    "\n",
    "class cow(animal):\n",
    "    def sound(self):\n",
    "        print(\"MOOOOO\")\n",
    "\n"
   ]
  },
  {
   "cell_type": "code",
   "execution_count": 6,
   "metadata": {},
   "outputs": [
    {
     "data": {
      "text/plain": [
       "'22bi13304'"
      ]
     },
     "execution_count": 6,
     "metadata": {},
     "output_type": "execute_result"
    }
   ],
   "source": [
    "import re \n",
    "\n",
    "email = \"minhnt.22bi13304@usth.edu.vn\"\n",
    "\n",
    "student_id = re.search(\"(\\\\d{2}[a-z]{2}\\\\d{5})$\", email.split(\"@\")[0])\n",
    "student_id.group()"
   ]
  }
 ],
 "metadata": {
  "kernelspec": {
   "display_name": "tminh",
   "language": "python",
   "name": "python3"
  },
  "language_info": {
   "codemirror_mode": {
    "name": "ipython",
    "version": 3
   },
   "file_extension": ".py",
   "mimetype": "text/x-python",
   "name": "python",
   "nbconvert_exporter": "python",
   "pygments_lexer": "ipython3",
   "version": "3.13.1"
  }
 },
 "nbformat": 4,
 "nbformat_minor": 2
}
